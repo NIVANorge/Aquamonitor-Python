{
 "cells": [
  {
   "cell_type": "code",
   "execution_count": 1,
   "metadata": {},
   "outputs": [
    {
     "ename": "ModuleNotFoundError",
     "evalue": "No module named 'aquamonitor'",
     "output_type": "error",
     "traceback": [
      "\u001b[0;31m---------------------------------------------------------------------------\u001b[0m",
      "\u001b[0;31mModuleNotFoundError\u001b[0m                       Traceback (most recent call last)",
      "\u001b[0;32m<ipython-input-1-1da0eb15d1af>\u001b[0m in \u001b[0;36m<module>\u001b[0;34m\u001b[0m\n\u001b[0;32m----> 1\u001b[0;31m \u001b[0;32mimport\u001b[0m \u001b[0maquamonitor\u001b[0m \u001b[0;32mas\u001b[0m \u001b[0mam\u001b[0m\u001b[0;34m\u001b[0m\u001b[0;34m\u001b[0m\u001b[0m\n\u001b[0m\u001b[1;32m      2\u001b[0m \u001b[0;34m\u001b[0m\u001b[0m\n\u001b[1;32m      3\u001b[0m \u001b[0;31m# The new functionality requires using the AM dev/test site\u001b[0m\u001b[0;34m\u001b[0m\u001b[0;34m\u001b[0m\u001b[0;34m\u001b[0m\u001b[0m\n\u001b[1;32m      4\u001b[0m \u001b[0mam\u001b[0m\u001b[0;34m.\u001b[0m\u001b[0mhost\u001b[0m \u001b[0;34m=\u001b[0m \u001b[0;34m\"https://test-aquamonitor.niva.no/\"\u001b[0m\u001b[0;34m\u001b[0m\u001b[0;34m\u001b[0m\u001b[0m\n",
      "\u001b[0;31mModuleNotFoundError\u001b[0m: No module named 'aquamonitor'"
     ]
    }
   ],
   "source": [
    "import aquamonitor as am\n",
    "\n",
    "# The new functionality requires using the AM dev/test site\n",
    "am.host = \"https://test-aquamonitor.niva.no/\""
   ]
  },
  {
   "cell_type": "markdown",
   "metadata": {},
   "source": [
    "# Query project-specific water chemistry data using the Aquamonitor API\n",
    "\n",
    "AquaMonitor-Python is a Python library providing external access to Nivabasen, NIVA's internal water chemistry and ecology database."
   ]
  },
  {
   "cell_type": "markdown",
   "metadata": {},
   "source": [
    "## 1. Login\n",
    "\n",
    "There are several login options:\n",
    "\n",
    " 1. **Create a file named `.auth`** in the same folder as `AquaMonitor.py` with the format shown below. `Aquamonitor-Python` will then attempt to read your credentials from this file automatically whenever they are required. This is the easiest solution on secure systems, but **note that your username and password will be stored as plain text, so use with caution**.\n",
    " \n",
    "            [Auth]\n",
    "            username = YourUsername\n",
    "            password = YourPassword\n",
    "            \n",
    "            \n",
    " 2. **Use the `login()` function**, as shown below. This will create an access token that is valid for one day, which you can then pass to any subsequent queries (see below for examples)\n",
    " \n",
    " 3. **Do nothing**. If you do not provide an access token and the `.auth` file cannot be found, you will be prompted to enter your username and password. Note that you will have to do this for *every* query, so in most cases one of the other options will be preferred    "
   ]
  },
  {
   "cell_type": "code",
   "execution_count": 2,
   "metadata": {},
   "outputs": [
    {
     "name": "stdout",
     "output_type": "stream",
     "text": [
      "Please enter your credentials.\n"
     ]
    },
    {
     "name": "stdin",
     "output_type": "stream",
     "text": [
      "Username:  ···\n",
      "Password:  ··············\n"
     ]
    }
   ],
   "source": [
    "# Get access token\n",
    "token = am.login()"
   ]
  },
  {
   "cell_type": "markdown",
   "metadata": {},
   "source": [
    "## 2. List projects\n",
    "\n",
    "The `get_projects` function returns a list of all projects in the database. You can search this dataframe to identify the correct project ID for the project you are interested in."
   ]
  },
  {
   "cell_type": "code",
   "execution_count": 3,
   "metadata": {},
   "outputs": [
    {
     "name": "stdout",
     "output_type": "stream",
     "text": [
      "1300 projects in the database.\n"
     ]
    },
    {
     "data": {
      "text/html": [
       "<div>\n",
       "<style scoped>\n",
       "    .dataframe tbody tr th:only-of-type {\n",
       "        vertical-align: middle;\n",
       "    }\n",
       "\n",
       "    .dataframe tbody tr th {\n",
       "        vertical-align: top;\n",
       "    }\n",
       "\n",
       "    .dataframe thead th {\n",
       "        text-align: right;\n",
       "    }\n",
       "</style>\n",
       "<table border=\"1\" class=\"dataframe\">\n",
       "  <thead>\n",
       "    <tr style=\"text-align: right;\">\n",
       "      <th></th>\n",
       "      <th>ProjectId</th>\n",
       "      <th>ProjectCode</th>\n",
       "      <th>ProjectName</th>\n",
       "      <th>Description</th>\n",
       "    </tr>\n",
       "  </thead>\n",
       "  <tbody>\n",
       "    <tr>\n",
       "      <th>0</th>\n",
       "      <td>1</td>\n",
       "      <td>NaN</td>\n",
       "      <td>xxx</td>\n",
       "      <td>NaN</td>\n",
       "    </tr>\n",
       "    <tr>\n",
       "      <th>1</th>\n",
       "      <td>55</td>\n",
       "      <td>NaN</td>\n",
       "      <td>PARCOM_Aquateam</td>\n",
       "      <td>NaN</td>\n",
       "    </tr>\n",
       "    <tr>\n",
       "      <th>2</th>\n",
       "      <td>56</td>\n",
       "      <td>NaN</td>\n",
       "      <td>PARCOM_NIVA</td>\n",
       "      <td>NaN</td>\n",
       "    </tr>\n",
       "    <tr>\n",
       "      <th>3</th>\n",
       "      <td>58</td>\n",
       "      <td>NaN</td>\n",
       "      <td>MAR_BOK</td>\n",
       "      <td>Fagdata</td>\n",
       "    </tr>\n",
       "    <tr>\n",
       "      <th>4</th>\n",
       "      <td>59</td>\n",
       "      <td>NaN</td>\n",
       "      <td>MAR_IMA</td>\n",
       "      <td>Fagdata</td>\n",
       "    </tr>\n",
       "  </tbody>\n",
       "</table>\n",
       "</div>"
      ],
      "text/plain": [
       "   ProjectId ProjectCode      ProjectName Description\n",
       "0          1         NaN              xxx         NaN\n",
       "1         55         NaN  PARCOM_Aquateam         NaN\n",
       "2         56         NaN      PARCOM_NIVA         NaN\n",
       "3         58         NaN          MAR_BOK     Fagdata\n",
       "4         59         NaN          MAR_IMA     Fagdata"
      ]
     },
     "execution_count": 3,
     "metadata": {},
     "output_type": "execute_result"
    }
   ],
   "source": [
    "proj_df = am.get_projects(token=token)\n",
    "print(f\"{len(proj_df)} projects in the database.\")\n",
    "proj_df.head()"
   ]
  },
  {
   "cell_type": "code",
   "execution_count": 4,
   "metadata": {},
   "outputs": [
    {
     "data": {
      "text/html": [
       "<div>\n",
       "<style scoped>\n",
       "    .dataframe tbody tr th:only-of-type {\n",
       "        vertical-align: middle;\n",
       "    }\n",
       "\n",
       "    .dataframe tbody tr th {\n",
       "        vertical-align: top;\n",
       "    }\n",
       "\n",
       "    .dataframe thead th {\n",
       "        text-align: right;\n",
       "    }\n",
       "</style>\n",
       "<table border=\"1\" class=\"dataframe\">\n",
       "  <thead>\n",
       "    <tr style=\"text-align: right;\">\n",
       "      <th></th>\n",
       "      <th>ProjectId</th>\n",
       "      <th>ProjectCode</th>\n",
       "      <th>ProjectName</th>\n",
       "      <th>Description</th>\n",
       "    </tr>\n",
       "  </thead>\n",
       "  <tbody>\n",
       "    <tr>\n",
       "      <th>1201</th>\n",
       "      <td>12433</td>\n",
       "      <td>190091</td>\n",
       "      <td>Nasjonal Innsjøundersøkelse 2019</td>\n",
       "      <td>1000-sjøer undersøkelse gjennomført i 2019</td>\n",
       "    </tr>\n",
       "  </tbody>\n",
       "</table>\n",
       "</div>"
      ],
      "text/plain": [
       "      ProjectId ProjectCode                       ProjectName  \\\n",
       "1201      12433      190091  Nasjonal Innsjøundersøkelse 2019   \n",
       "\n",
       "                                     Description  \n",
       "1201  1000-sjøer undersøkelse gjennomført i 2019  "
      ]
     },
     "execution_count": 4,
     "metadata": {},
     "output_type": "execute_result"
    }
   ],
   "source": [
    "# Find the project code for the 2019 '1000 Lakes' survey\n",
    "proj_df.query(\"ProjectName.str.contains('Nasjonal')\", engine=\"python\")"
   ]
  },
  {
   "cell_type": "markdown",
   "metadata": {},
   "source": [
    "## 3. Get stations in project\n",
    "\n",
    "Use `get_project_stations` to get a list of all stations associated with your project of interest.\n",
    "\n",
    "**To do:** It would be great if this API endpoint could also return the geographic co-ordinates (lat/lon) for each station. At present, I think this can only be achieved by iterating over the `api/projects/{proj_id}/stations/{stn_id}/samplePoint` endpoint for each station, which is slow."
   ]
  },
  {
   "cell_type": "code",
   "execution_count": 5,
   "metadata": {},
   "outputs": [
    {
     "name": "stdout",
     "output_type": "stream",
     "text": [
      "1003 stations in project.\n"
     ]
    },
    {
     "data": {
      "text/html": [
       "<div>\n",
       "<style scoped>\n",
       "    .dataframe tbody tr th:only-of-type {\n",
       "        vertical-align: middle;\n",
       "    }\n",
       "\n",
       "    .dataframe tbody tr th {\n",
       "        vertical-align: top;\n",
       "    }\n",
       "\n",
       "    .dataframe thead th {\n",
       "        text-align: right;\n",
       "    }\n",
       "</style>\n",
       "<table border=\"1\" class=\"dataframe\">\n",
       "  <thead>\n",
       "    <tr style=\"text-align: right;\">\n",
       "      <th></th>\n",
       "      <th>ProjectId</th>\n",
       "      <th>StationId</th>\n",
       "      <th>StationCode</th>\n",
       "      <th>StationName</th>\n",
       "      <th>Type</th>\n",
       "    </tr>\n",
       "  </thead>\n",
       "  <tbody>\n",
       "    <tr>\n",
       "      <th>388</th>\n",
       "      <td>12433</td>\n",
       "      <td>26070</td>\n",
       "      <td>221-1-2</td>\n",
       "      <td>Langtjern</td>\n",
       "      <td>Innsjø</td>\n",
       "    </tr>\n",
       "    <tr>\n",
       "      <th>389</th>\n",
       "      <td>12433</td>\n",
       "      <td>26071</td>\n",
       "      <td>101-2-7</td>\n",
       "      <td>Hokksjøen</td>\n",
       "      <td>Innsjø</td>\n",
       "    </tr>\n",
       "    <tr>\n",
       "      <th>390</th>\n",
       "      <td>12433</td>\n",
       "      <td>26072</td>\n",
       "      <td>402-2-13</td>\n",
       "      <td>Sætertjern</td>\n",
       "      <td>Innsjø</td>\n",
       "    </tr>\n",
       "    <tr>\n",
       "      <th>391</th>\n",
       "      <td>12433</td>\n",
       "      <td>26073</td>\n",
       "      <td>419-1-25</td>\n",
       "      <td>Mjøgsjøen</td>\n",
       "      <td>Innsjø</td>\n",
       "    </tr>\n",
       "    <tr>\n",
       "      <th>392</th>\n",
       "      <td>12433</td>\n",
       "      <td>26074</td>\n",
       "      <td>425-2-2</td>\n",
       "      <td>Kottern</td>\n",
       "      <td>Innsjø</td>\n",
       "    </tr>\n",
       "  </tbody>\n",
       "</table>\n",
       "</div>"
      ],
      "text/plain": [
       "     ProjectId  StationId StationCode StationName    Type\n",
       "388      12433      26070     221-1-2   Langtjern  Innsjø\n",
       "389      12433      26071     101-2-7   Hokksjøen  Innsjø\n",
       "390      12433      26072    402-2-13  Sætertjern  Innsjø\n",
       "391      12433      26073    419-1-25   Mjøgsjøen  Innsjø\n",
       "392      12433      26074     425-2-2     Kottern  Innsjø"
      ]
     },
     "execution_count": 5,
     "metadata": {},
     "output_type": "execute_result"
    }
   ],
   "source": [
    "# Project of interest\n",
    "proj_id = 12433\n",
    "\n",
    "stn_df = am.get_project_stations(proj_id, token=token)\n",
    "print(f\"{len(stn_df)} stations in project.\")\n",
    "stn_df.head()"
   ]
  },
  {
   "cell_type": "markdown",
   "metadata": {},
   "source": [
    "## 4. Get water chemistry\n",
    "\n",
    "Use `get_project_chemistry` to extract all the water chemistry data for your project and time period of of interest."
   ]
  },
  {
   "cell_type": "code",
   "execution_count": 6,
   "metadata": {},
   "outputs": [
    {
     "name": "stdout",
     "output_type": "stream",
     "text": [
      "CPU times: user 4.39 s, sys: 191 ms, total: 4.58 s\n",
      "Wall time: 29.5 s\n"
     ]
    },
    {
     "data": {
      "text/html": [
       "<div>\n",
       "<style scoped>\n",
       "    .dataframe tbody tr th:only-of-type {\n",
       "        vertical-align: middle;\n",
       "    }\n",
       "\n",
       "    .dataframe tbody tr th {\n",
       "        vertical-align: top;\n",
       "    }\n",
       "\n",
       "    .dataframe thead th {\n",
       "        text-align: right;\n",
       "    }\n",
       "</style>\n",
       "<table border=\"1\" class=\"dataframe\">\n",
       "  <thead>\n",
       "    <tr style=\"text-align: right;\">\n",
       "      <th></th>\n",
       "      <th>ProjectId</th>\n",
       "      <th>ProjectName</th>\n",
       "      <th>StationId</th>\n",
       "      <th>StationCode</th>\n",
       "      <th>StationName</th>\n",
       "      <th>SampleDate</th>\n",
       "      <th>Depth2</th>\n",
       "      <th>ParameterName</th>\n",
       "      <th>Flag</th>\n",
       "      <th>Value</th>\n",
       "      <th>Unit</th>\n",
       "      <th>Approved</th>\n",
       "      <th>QuantificationLimit</th>\n",
       "      <th>DetectionLimit</th>\n",
       "      <th>Laboratory</th>\n",
       "      <th>MethodCode</th>\n",
       "      <th>MethodRef</th>\n",
       "      <th>Remark</th>\n",
       "    </tr>\n",
       "  </thead>\n",
       "  <tbody>\n",
       "    <tr>\n",
       "      <th>10</th>\n",
       "      <td>12433</td>\n",
       "      <td>Nasjonal Innsjøundersøkelse 2019</td>\n",
       "      <td>26070</td>\n",
       "      <td>221-1-2</td>\n",
       "      <td>Langtjern</td>\n",
       "      <td>2019-10-25T00:00:00Z</td>\n",
       "      <td>NaN</td>\n",
       "      <td>Alkalitet</td>\n",
       "      <td>NaN</td>\n",
       "      <td>0.054</td>\n",
       "      <td>MMOLE_P_L</td>\n",
       "      <td>True</td>\n",
       "      <td>0.03</td>\n",
       "      <td>NaN</td>\n",
       "      <td>NIVA_LABWARE</td>\n",
       "      <td>NaN</td>\n",
       "      <td>C1-4 - NS-EN ISO 9963-1:1996 - NS-EN ISO/IEC 1...</td>\n",
       "      <td>NaN</td>\n",
       "    </tr>\n",
       "    <tr>\n",
       "      <th>13</th>\n",
       "      <td>12433</td>\n",
       "      <td>Nasjonal Innsjøundersøkelse 2019</td>\n",
       "      <td>26070</td>\n",
       "      <td>221-1-2</td>\n",
       "      <td>Langtjern</td>\n",
       "      <td>2019-10-25T00:00:00Z</td>\n",
       "      <td>NaN</td>\n",
       "      <td>Aluminium</td>\n",
       "      <td>NaN</td>\n",
       "      <td>280.000</td>\n",
       "      <td>UG_P_L</td>\n",
       "      <td>True</td>\n",
       "      <td>1.00</td>\n",
       "      <td>NaN</td>\n",
       "      <td>NIVA_LABWARE</td>\n",
       "      <td>NaN</td>\n",
       "      <td>EKSTERN_EF - ISO/IEC 17025:2005 SWEDAC 1125</td>\n",
       "      <td>NaN</td>\n",
       "    </tr>\n",
       "    <tr>\n",
       "      <th>477</th>\n",
       "      <td>12433</td>\n",
       "      <td>Nasjonal Innsjøundersøkelse 2019</td>\n",
       "      <td>26070</td>\n",
       "      <td>221-1-2</td>\n",
       "      <td>Langtjern</td>\n",
       "      <td>2019-10-25T00:00:00Z</td>\n",
       "      <td>NaN</td>\n",
       "      <td>Aluminium, ikke labil</td>\n",
       "      <td>NaN</td>\n",
       "      <td>130.000</td>\n",
       "      <td>UG_P_L</td>\n",
       "      <td>True</td>\n",
       "      <td>5.00</td>\n",
       "      <td>1.5</td>\n",
       "      <td>NIVA_LABWARE</td>\n",
       "      <td>NaN</td>\n",
       "      <td>E3-2 - NS-EN ISO/IEC 17025:2005 NA TEST 009</td>\n",
       "      <td>NaN</td>\n",
       "    </tr>\n",
       "    <tr>\n",
       "      <th>243</th>\n",
       "      <td>12433</td>\n",
       "      <td>Nasjonal Innsjøundersøkelse 2019</td>\n",
       "      <td>26070</td>\n",
       "      <td>221-1-2</td>\n",
       "      <td>Langtjern</td>\n",
       "      <td>2019-10-25T00:00:00Z</td>\n",
       "      <td>NaN</td>\n",
       "      <td>Aluminium, reaktivt</td>\n",
       "      <td>NaN</td>\n",
       "      <td>150.000</td>\n",
       "      <td>UG_P_L</td>\n",
       "      <td>True</td>\n",
       "      <td>5.00</td>\n",
       "      <td>1.5</td>\n",
       "      <td>NIVA_LABWARE</td>\n",
       "      <td>NaN</td>\n",
       "      <td>E3-2 - NS-EN ISO/IEC 17025:2005 NA TEST 009</td>\n",
       "      <td>NaN</td>\n",
       "    </tr>\n",
       "    <tr>\n",
       "      <th>183</th>\n",
       "      <td>12433</td>\n",
       "      <td>Nasjonal Innsjøundersøkelse 2019</td>\n",
       "      <td>26070</td>\n",
       "      <td>221-1-2</td>\n",
       "      <td>Langtjern</td>\n",
       "      <td>2019-10-25T00:00:00Z</td>\n",
       "      <td>NaN</td>\n",
       "      <td>Ammonium</td>\n",
       "      <td>NaN</td>\n",
       "      <td>6.000</td>\n",
       "      <td>UG_N_L</td>\n",
       "      <td>True</td>\n",
       "      <td>2.00</td>\n",
       "      <td>NaN</td>\n",
       "      <td>NIVA_LABWARE</td>\n",
       "      <td>NaN</td>\n",
       "      <td>C4-4 - NS-EN ISO 10304-1:2009 (Anioner) NS-EN ...</td>\n",
       "      <td>NaN</td>\n",
       "    </tr>\n",
       "  </tbody>\n",
       "</table>\n",
       "</div>"
      ],
      "text/plain": [
       "     ProjectId                       ProjectName  StationId StationCode  \\\n",
       "10       12433  Nasjonal Innsjøundersøkelse 2019      26070     221-1-2   \n",
       "13       12433  Nasjonal Innsjøundersøkelse 2019      26070     221-1-2   \n",
       "477      12433  Nasjonal Innsjøundersøkelse 2019      26070     221-1-2   \n",
       "243      12433  Nasjonal Innsjøundersøkelse 2019      26070     221-1-2   \n",
       "183      12433  Nasjonal Innsjøundersøkelse 2019      26070     221-1-2   \n",
       "\n",
       "    StationName            SampleDate  Depth2          ParameterName Flag  \\\n",
       "10    Langtjern  2019-10-25T00:00:00Z     NaN              Alkalitet  NaN   \n",
       "13    Langtjern  2019-10-25T00:00:00Z     NaN              Aluminium  NaN   \n",
       "477   Langtjern  2019-10-25T00:00:00Z     NaN  Aluminium, ikke labil  NaN   \n",
       "243   Langtjern  2019-10-25T00:00:00Z     NaN    Aluminium, reaktivt  NaN   \n",
       "183   Langtjern  2019-10-25T00:00:00Z     NaN               Ammonium  NaN   \n",
       "\n",
       "       Value       Unit Approved  QuantificationLimit  DetectionLimit  \\\n",
       "10     0.054  MMOLE_P_L     True                 0.03             NaN   \n",
       "13   280.000     UG_P_L     True                 1.00             NaN   \n",
       "477  130.000     UG_P_L     True                 5.00             1.5   \n",
       "243  150.000     UG_P_L     True                 5.00             1.5   \n",
       "183    6.000     UG_N_L     True                 2.00             NaN   \n",
       "\n",
       "       Laboratory MethodCode  \\\n",
       "10   NIVA_LABWARE        NaN   \n",
       "13   NIVA_LABWARE        NaN   \n",
       "477  NIVA_LABWARE        NaN   \n",
       "243  NIVA_LABWARE        NaN   \n",
       "183  NIVA_LABWARE        NaN   \n",
       "\n",
       "                                             MethodRef Remark  \n",
       "10   C1-4 - NS-EN ISO 9963-1:1996 - NS-EN ISO/IEC 1...    NaN  \n",
       "13         EKSTERN_EF - ISO/IEC 17025:2005 SWEDAC 1125    NaN  \n",
       "477        E3-2 - NS-EN ISO/IEC 17025:2005 NA TEST 009    NaN  \n",
       "243        E3-2 - NS-EN ISO/IEC 17025:2005 NA TEST 009    NaN  \n",
       "183  C4-4 - NS-EN ISO 10304-1:2009 (Anioner) NS-EN ...    NaN  "
      ]
     },
     "execution_count": 6,
     "metadata": {},
     "output_type": "execute_result"
    }
   ],
   "source": [
    "%%time\n",
    "\n",
    "# Period of interest\n",
    "st_dt = \"01.01.2019\"\n",
    "end_dt = \"31.12.2019\"\n",
    "\n",
    "df = am.get_project_chemistry(proj_id, st_dt, end_dt, token=token, approved=True)\n",
    "df.head()"
   ]
  }
 ],
 "metadata": {
  "kernelspec": {
   "display_name": "Python 3",
   "language": "python",
   "name": "python3"
  },
  "language_info": {
   "codemirror_mode": {
    "name": "ipython",
    "version": 3
   },
   "file_extension": ".py",
   "mimetype": "text/x-python",
   "name": "python",
   "nbconvert_exporter": "python",
   "pygments_lexer": "ipython3",
   "version": "3.8.6"
  }
 },
 "nbformat": 4,
 "nbformat_minor": 4
}
