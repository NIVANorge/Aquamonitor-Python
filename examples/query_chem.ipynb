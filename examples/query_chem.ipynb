{
 "cells": [
  {
   "cell_type": "code",
   "execution_count": 1,
   "metadata": {},
   "outputs": [],
   "source": [
    "import aquamonitor as am"
   ]
  },
  {
   "cell_type": "markdown",
   "metadata": {},
   "source": [
    "# Query project-specific water chemistry data using the Aquamonitor API\n",
    "\n",
    "AquaMonitor-Python is a Python library providing external access to Nivabasen, NIVA's internal water chemistry and ecology database."
   ]
  },
  {
   "cell_type": "markdown",
   "metadata": {},
   "source": [
    "## 1. Login\n",
    "\n",
    "There are several login options:\n",
    "\n",
    " 1. **Create a file named `.auth`** in the same folder as `AquaMonitor.py` with the format shown below. `Aquamonitor-Python` will then attempt to read your credentials from this file automatically whenever they are required. This is the easiest solution on secure systems, but **note that your username and password will be stored as plain text, so use with caution**.\n",
    " \n",
    "            [Auth]\n",
    "            username = YourUsername\n",
    "            password = YourPassword\n",
    "            \n",
    "            \n",
    " 2. **Use the `login()` function**, as shown below. This will create an access token that is valid for one day, which you can then pass to any subsequent queries (see below for examples)\n",
    " \n",
    " 3. **Do nothing**. If you do not provide an access token and the `.auth` file cannot be found, you will be prompted to enter your username and password. Note that you will have to do this for *every* query, so in most cases one of the other options will be preferred    "
   ]
  },
  {
   "cell_type": "code",
   "execution_count": 2,
   "metadata": {},
   "outputs": [
    {
     "name": "stdout",
     "output_type": "stream",
     "text": [
      "Please enter your credentials.\n"
     ]
    },
    {
     "name": "stdin",
     "output_type": "stream",
     "text": [
      "Username:  ···\n",
      "Password:  ··············\n"
     ]
    }
   ],
   "source": [
    "# Get access token\n",
    "token = am.login()"
   ]
  },
  {
   "cell_type": "markdown",
   "metadata": {},
   "source": [
    "## 2. List projects\n",
    "\n",
    "The `get_projects` function returns a list of all projects in the database. You can search this dataframe to identify the correct project ID for the project you are interested in."
   ]
  },
  {
   "cell_type": "code",
   "execution_count": 3,
   "metadata": {},
   "outputs": [
    {
     "name": "stdout",
     "output_type": "stream",
     "text": [
      "1334 projects in the database.\n"
     ]
    },
    {
     "data": {
      "text/html": [
       "<div>\n",
       "<style scoped>\n",
       "    .dataframe tbody tr th:only-of-type {\n",
       "        vertical-align: middle;\n",
       "    }\n",
       "\n",
       "    .dataframe tbody tr th {\n",
       "        vertical-align: top;\n",
       "    }\n",
       "\n",
       "    .dataframe thead th {\n",
       "        text-align: right;\n",
       "    }\n",
       "</style>\n",
       "<table border=\"1\" class=\"dataframe\">\n",
       "  <thead>\n",
       "    <tr style=\"text-align: right;\">\n",
       "      <th></th>\n",
       "      <th>project_id</th>\n",
       "      <th>project_code</th>\n",
       "      <th>project_name</th>\n",
       "      <th>description</th>\n",
       "    </tr>\n",
       "  </thead>\n",
       "  <tbody>\n",
       "    <tr>\n",
       "      <th>0</th>\n",
       "      <td>1</td>\n",
       "      <td>NaN</td>\n",
       "      <td>xxx</td>\n",
       "      <td>NaN</td>\n",
       "    </tr>\n",
       "    <tr>\n",
       "      <th>1</th>\n",
       "      <td>55</td>\n",
       "      <td>NaN</td>\n",
       "      <td>PARCOM_Aquateam</td>\n",
       "      <td>NaN</td>\n",
       "    </tr>\n",
       "    <tr>\n",
       "      <th>2</th>\n",
       "      <td>56</td>\n",
       "      <td>NaN</td>\n",
       "      <td>PARCOM_NIVA</td>\n",
       "      <td>NaN</td>\n",
       "    </tr>\n",
       "    <tr>\n",
       "      <th>3</th>\n",
       "      <td>58</td>\n",
       "      <td>NaN</td>\n",
       "      <td>MAR_BOK</td>\n",
       "      <td>Fagdata</td>\n",
       "    </tr>\n",
       "    <tr>\n",
       "      <th>4</th>\n",
       "      <td>59</td>\n",
       "      <td>NaN</td>\n",
       "      <td>MAR_IMA</td>\n",
       "      <td>Fagdata</td>\n",
       "    </tr>\n",
       "  </tbody>\n",
       "</table>\n",
       "</div>"
      ],
      "text/plain": [
       "   project_id project_code     project_name description\n",
       "0           1          NaN              xxx         NaN\n",
       "1          55          NaN  PARCOM_Aquateam         NaN\n",
       "2          56          NaN      PARCOM_NIVA         NaN\n",
       "3          58          NaN          MAR_BOK     Fagdata\n",
       "4          59          NaN          MAR_IMA     Fagdata"
      ]
     },
     "execution_count": 3,
     "metadata": {},
     "output_type": "execute_result"
    }
   ],
   "source": [
    "proj_df = am.get_projects(token=token)\n",
    "print(f\"{len(proj_df)} projects in the database.\")\n",
    "proj_df.head()"
   ]
  },
  {
   "cell_type": "code",
   "execution_count": 4,
   "metadata": {},
   "outputs": [
    {
     "data": {
      "text/html": [
       "<div>\n",
       "<style scoped>\n",
       "    .dataframe tbody tr th:only-of-type {\n",
       "        vertical-align: middle;\n",
       "    }\n",
       "\n",
       "    .dataframe tbody tr th {\n",
       "        vertical-align: top;\n",
       "    }\n",
       "\n",
       "    .dataframe thead th {\n",
       "        text-align: right;\n",
       "    }\n",
       "</style>\n",
       "<table border=\"1\" class=\"dataframe\">\n",
       "  <thead>\n",
       "    <tr style=\"text-align: right;\">\n",
       "      <th></th>\n",
       "      <th>project_id</th>\n",
       "      <th>project_code</th>\n",
       "      <th>project_name</th>\n",
       "      <th>description</th>\n",
       "    </tr>\n",
       "  </thead>\n",
       "  <tbody>\n",
       "    <tr>\n",
       "      <th>1200</th>\n",
       "      <td>12433</td>\n",
       "      <td>190091</td>\n",
       "      <td>Nasjonal Innsjøundersøkelse 2019</td>\n",
       "      <td>1000-sjøer undersøkelse gjennomført i 2019</td>\n",
       "    </tr>\n",
       "  </tbody>\n",
       "</table>\n",
       "</div>"
      ],
      "text/plain": [
       "      project_id project_code                      project_name  \\\n",
       "1200       12433       190091  Nasjonal Innsjøundersøkelse 2019   \n",
       "\n",
       "                                     description  \n",
       "1200  1000-sjøer undersøkelse gjennomført i 2019  "
      ]
     },
     "execution_count": 4,
     "metadata": {},
     "output_type": "execute_result"
    }
   ],
   "source": [
    "# Find the project code for the 2019 '1000 Lakes' survey\n",
    "proj_df.query(\"project_name.str.contains('Nasjonal')\", engine=\"python\")"
   ]
  },
  {
   "cell_type": "markdown",
   "metadata": {},
   "source": [
    "## 3. Get stations in project\n",
    "\n",
    "Use `get_project_stations` to get a list of all stations associated with your project of interest.\n",
    "\n",
    "**To do:** It would be great if this API endpoint could also return the geographic co-ordinates (lat/lon) for each station. At present, I think this can only be achieved by iterating over the `api/projects/{proj_id}/stations/{stn_id}/samplePoint` endpoint for each station, which is slow."
   ]
  },
  {
   "cell_type": "code",
   "execution_count": 5,
   "metadata": {},
   "outputs": [
    {
     "name": "stdout",
     "output_type": "stream",
     "text": [
      "1003 stations in project.\n"
     ]
    },
    {
     "data": {
      "text/html": [
       "<div>\n",
       "<style scoped>\n",
       "    .dataframe tbody tr th:only-of-type {\n",
       "        vertical-align: middle;\n",
       "    }\n",
       "\n",
       "    .dataframe tbody tr th {\n",
       "        vertical-align: top;\n",
       "    }\n",
       "\n",
       "    .dataframe thead th {\n",
       "        text-align: right;\n",
       "    }\n",
       "</style>\n",
       "<table border=\"1\" class=\"dataframe\">\n",
       "  <thead>\n",
       "    <tr style=\"text-align: right;\">\n",
       "      <th></th>\n",
       "      <th>project_id</th>\n",
       "      <th>station_id</th>\n",
       "      <th>station_code</th>\n",
       "      <th>station_name</th>\n",
       "      <th>type</th>\n",
       "    </tr>\n",
       "  </thead>\n",
       "  <tbody>\n",
       "    <tr>\n",
       "      <th>0</th>\n",
       "      <td>12433</td>\n",
       "      <td>26070</td>\n",
       "      <td>221-1-2</td>\n",
       "      <td>Langtjern</td>\n",
       "      <td>Innsjø</td>\n",
       "    </tr>\n",
       "    <tr>\n",
       "      <th>1</th>\n",
       "      <td>12433</td>\n",
       "      <td>26071</td>\n",
       "      <td>101-2-7</td>\n",
       "      <td>Hokksjøen</td>\n",
       "      <td>Innsjø</td>\n",
       "    </tr>\n",
       "    <tr>\n",
       "      <th>2</th>\n",
       "      <td>12433</td>\n",
       "      <td>26072</td>\n",
       "      <td>402-2-13</td>\n",
       "      <td>Sætertjern</td>\n",
       "      <td>Innsjø</td>\n",
       "    </tr>\n",
       "    <tr>\n",
       "      <th>3</th>\n",
       "      <td>12433</td>\n",
       "      <td>26073</td>\n",
       "      <td>419-1-25</td>\n",
       "      <td>Mjøgsjøen</td>\n",
       "      <td>Innsjø</td>\n",
       "    </tr>\n",
       "    <tr>\n",
       "      <th>4</th>\n",
       "      <td>12433</td>\n",
       "      <td>26074</td>\n",
       "      <td>425-2-2</td>\n",
       "      <td>Kottern</td>\n",
       "      <td>Innsjø</td>\n",
       "    </tr>\n",
       "  </tbody>\n",
       "</table>\n",
       "</div>"
      ],
      "text/plain": [
       "   project_id  station_id station_code station_name    type\n",
       "0       12433       26070      221-1-2    Langtjern  Innsjø\n",
       "1       12433       26071      101-2-7    Hokksjøen  Innsjø\n",
       "2       12433       26072     402-2-13   Sætertjern  Innsjø\n",
       "3       12433       26073     419-1-25    Mjøgsjøen  Innsjø\n",
       "4       12433       26074      425-2-2      Kottern  Innsjø"
      ]
     },
     "execution_count": 5,
     "metadata": {},
     "output_type": "execute_result"
    }
   ],
   "source": [
    "# Project of interest\n",
    "proj_id = 12433\n",
    "\n",
    "stn_df = am.get_project_stations(proj_id, token=token)\n",
    "print(f\"{len(stn_df)} stations in project.\")\n",
    "stn_df.head()"
   ]
  },
  {
   "cell_type": "markdown",
   "metadata": {},
   "source": [
    "## 4. Get water chemistry\n",
    "\n",
    "Use `get_project_chemistry` to extract all the water chemistry data for your project and time period of of interest."
   ]
  },
  {
   "cell_type": "code",
   "execution_count": 6,
   "metadata": {},
   "outputs": [
    {
     "name": "stdout",
     "output_type": "stream",
     "text": [
      "CPU times: user 5.53 s, sys: 221 ms, total: 5.75 s\n",
      "Wall time: 30.8 s\n"
     ]
    },
    {
     "data": {
      "text/html": [
       "<div>\n",
       "<style scoped>\n",
       "    .dataframe tbody tr th:only-of-type {\n",
       "        vertical-align: middle;\n",
       "    }\n",
       "\n",
       "    .dataframe tbody tr th {\n",
       "        vertical-align: top;\n",
       "    }\n",
       "\n",
       "    .dataframe thead th {\n",
       "        text-align: right;\n",
       "    }\n",
       "</style>\n",
       "<table border=\"1\" class=\"dataframe\">\n",
       "  <thead>\n",
       "    <tr style=\"text-align: right;\">\n",
       "      <th></th>\n",
       "      <th>project_id</th>\n",
       "      <th>project_name</th>\n",
       "      <th>station_id</th>\n",
       "      <th>station_code</th>\n",
       "      <th>station_name</th>\n",
       "      <th>sample_date</th>\n",
       "      <th>depth1</th>\n",
       "      <th>depth2</th>\n",
       "      <th>parameter_name</th>\n",
       "      <th>flag</th>\n",
       "      <th>value</th>\n",
       "      <th>unit</th>\n",
       "    </tr>\n",
       "  </thead>\n",
       "  <tbody>\n",
       "    <tr>\n",
       "      <th>0</th>\n",
       "      <td>12433</td>\n",
       "      <td>Nasjonal Innsjøundersøkelse 2019</td>\n",
       "      <td>26070</td>\n",
       "      <td>221-1-2</td>\n",
       "      <td>Langtjern</td>\n",
       "      <td>2019-10-25 00:00:00+00:00</td>\n",
       "      <td>0.0</td>\n",
       "      <td>0.0</td>\n",
       "      <td>Al</td>\n",
       "      <td>NaN</td>\n",
       "      <td>280.000</td>\n",
       "      <td>µg/l</td>\n",
       "    </tr>\n",
       "    <tr>\n",
       "      <th>1</th>\n",
       "      <td>12433</td>\n",
       "      <td>Nasjonal Innsjøundersøkelse 2019</td>\n",
       "      <td>26070</td>\n",
       "      <td>221-1-2</td>\n",
       "      <td>Langtjern</td>\n",
       "      <td>2019-10-25 00:00:00+00:00</td>\n",
       "      <td>0.0</td>\n",
       "      <td>0.0</td>\n",
       "      <td>Al/IL</td>\n",
       "      <td>NaN</td>\n",
       "      <td>130.000</td>\n",
       "      <td>µg/l</td>\n",
       "    </tr>\n",
       "    <tr>\n",
       "      <th>2</th>\n",
       "      <td>12433</td>\n",
       "      <td>Nasjonal Innsjøundersøkelse 2019</td>\n",
       "      <td>26070</td>\n",
       "      <td>221-1-2</td>\n",
       "      <td>Langtjern</td>\n",
       "      <td>2019-10-25 00:00:00+00:00</td>\n",
       "      <td>0.0</td>\n",
       "      <td>0.0</td>\n",
       "      <td>Al/L</td>\n",
       "      <td>NaN</td>\n",
       "      <td>20.000</td>\n",
       "      <td>µg/l</td>\n",
       "    </tr>\n",
       "    <tr>\n",
       "      <th>3</th>\n",
       "      <td>12433</td>\n",
       "      <td>Nasjonal Innsjøundersøkelse 2019</td>\n",
       "      <td>26070</td>\n",
       "      <td>221-1-2</td>\n",
       "      <td>Langtjern</td>\n",
       "      <td>2019-10-25 00:00:00+00:00</td>\n",
       "      <td>0.0</td>\n",
       "      <td>0.0</td>\n",
       "      <td>Al/R</td>\n",
       "      <td>NaN</td>\n",
       "      <td>150.000</td>\n",
       "      <td>µg/l</td>\n",
       "    </tr>\n",
       "    <tr>\n",
       "      <th>4</th>\n",
       "      <td>12433</td>\n",
       "      <td>Nasjonal Innsjøundersøkelse 2019</td>\n",
       "      <td>26070</td>\n",
       "      <td>221-1-2</td>\n",
       "      <td>Langtjern</td>\n",
       "      <td>2019-10-25 00:00:00+00:00</td>\n",
       "      <td>0.0</td>\n",
       "      <td>0.0</td>\n",
       "      <td>Alk_4.5</td>\n",
       "      <td>NaN</td>\n",
       "      <td>0.054</td>\n",
       "      <td>mmol/l</td>\n",
       "    </tr>\n",
       "  </tbody>\n",
       "</table>\n",
       "</div>"
      ],
      "text/plain": [
       "   project_id                      project_name  station_id station_code  \\\n",
       "0       12433  Nasjonal Innsjøundersøkelse 2019       26070      221-1-2   \n",
       "1       12433  Nasjonal Innsjøundersøkelse 2019       26070      221-1-2   \n",
       "2       12433  Nasjonal Innsjøundersøkelse 2019       26070      221-1-2   \n",
       "3       12433  Nasjonal Innsjøundersøkelse 2019       26070      221-1-2   \n",
       "4       12433  Nasjonal Innsjøundersøkelse 2019       26070      221-1-2   \n",
       "\n",
       "  station_name               sample_date  depth1  depth2 parameter_name flag  \\\n",
       "0    Langtjern 2019-10-25 00:00:00+00:00     0.0     0.0             Al  NaN   \n",
       "1    Langtjern 2019-10-25 00:00:00+00:00     0.0     0.0          Al/IL  NaN   \n",
       "2    Langtjern 2019-10-25 00:00:00+00:00     0.0     0.0           Al/L  NaN   \n",
       "3    Langtjern 2019-10-25 00:00:00+00:00     0.0     0.0           Al/R  NaN   \n",
       "4    Langtjern 2019-10-25 00:00:00+00:00     0.0     0.0        Alk_4.5  NaN   \n",
       "\n",
       "     value    unit  \n",
       "0  280.000    µg/l  \n",
       "1  130.000    µg/l  \n",
       "2   20.000    µg/l  \n",
       "3  150.000    µg/l  \n",
       "4    0.054  mmol/l  "
      ]
     },
     "execution_count": 6,
     "metadata": {},
     "output_type": "execute_result"
    }
   ],
   "source": [
    "%%time\n",
    "\n",
    "# Period of interest\n",
    "st_dt = \"01.01.2019\"\n",
    "end_dt = \"31.12.2019\"\n",
    "\n",
    "df = am.get_project_chemistry(proj_id, st_dt, end_dt, token=token)\n",
    "df.head()"
   ]
  }
 ],
 "metadata": {
  "kernelspec": {
   "display_name": "Python 3",
   "language": "python",
   "name": "python3"
  },
  "language_info": {
   "codemirror_mode": {
    "name": "ipython",
    "version": 3
   },
   "file_extension": ".py",
   "mimetype": "text/x-python",
   "name": "python",
   "nbconvert_exporter": "python",
   "pygments_lexer": "ipython3",
   "version": "3.8.6"
  }
 },
 "nbformat": 4,
 "nbformat_minor": 4
}
