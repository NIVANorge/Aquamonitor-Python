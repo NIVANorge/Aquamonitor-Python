{
 "cells": [
  {
   "cell_type": "code",
   "execution_count": 1,
   "metadata": {},
   "outputs": [],
   "source": [
    "import AquaMonitor as am\n",
    "\n",
    "am.host = \"https://test-aquamonitor.niva.no/\""
   ]
  },
  {
   "cell_type": "markdown",
   "metadata": {},
   "source": [
    "# Query project-specific water chemistry data using the Aquamonitor API"
   ]
  },
  {
   "cell_type": "markdown",
   "metadata": {},
   "source": [
    "## 1. Login\n",
    "\n",
    "There are several login options:\n",
    "\n",
    " 1. Create a file named `.auth` in the same folder as `AquaMonitor.py` with the following format:\n",
    " \n",
    "            [Auth]\n",
    "            username = YourUsername\n",
    "            password = YourPassword\n",
    "            \n",
    "            \n",
    "    `Aquamonitor-Python` will then attempt to read your credentials from this file automatically whenever they are required. This is the easiest solution on secure systems, but **note that your username and password will be stored as plain text - use with caution**.\n",
    " \n",
    " 2. Use the `login()` function, as shown below. This will create an access token that is valid for one day, which you can then pass to any subsequent queries (see Section 2 for an example)\n",
    " \n",
    " 3. Do nothing. If you do not provide an access token and the `.auth` file cannot be found, you will be prompted to enter your username and password. Note that you will have to do this for every query, so in most cases one of the other options will be preferred\n",
    "    "
   ]
  },
  {
   "cell_type": "code",
   "execution_count": 2,
   "metadata": {},
   "outputs": [
    {
     "name": "stdout",
     "output_type": "stream",
     "text": [
      "Please enter your credentials.\n"
     ]
    },
    {
     "name": "stdin",
     "output_type": "stream",
     "text": [
      "Username:  ···\n",
      "Password:  ··············\n"
     ]
    }
   ],
   "source": [
    "# Get access token\n",
    "token = am.login()"
   ]
  },
  {
   "cell_type": "markdown",
   "metadata": {},
   "source": [
    "## 2. List projects\n",
    "\n",
    "The `get_projects` function returns a list of all projects in the database. You can search this dataframe to identify the correct project ID for the project you are interested in."
   ]
  },
  {
   "cell_type": "code",
   "execution_count": 3,
   "metadata": {},
   "outputs": [
    {
     "name": "stdout",
     "output_type": "stream",
     "text": [
      "1298 projects in the database.\n"
     ]
    },
    {
     "data": {
      "text/html": [
       "<div>\n",
       "<style scoped>\n",
       "    .dataframe tbody tr th:only-of-type {\n",
       "        vertical-align: middle;\n",
       "    }\n",
       "\n",
       "    .dataframe tbody tr th {\n",
       "        vertical-align: top;\n",
       "    }\n",
       "\n",
       "    .dataframe thead th {\n",
       "        text-align: right;\n",
       "    }\n",
       "</style>\n",
       "<table border=\"1\" class=\"dataframe\">\n",
       "  <thead>\n",
       "    <tr style=\"text-align: right;\">\n",
       "      <th></th>\n",
       "      <th>ProjectId</th>\n",
       "      <th>ProjectCode</th>\n",
       "      <th>ProjectName</th>\n",
       "      <th>Description</th>\n",
       "    </tr>\n",
       "  </thead>\n",
       "  <tbody>\n",
       "    <tr>\n",
       "      <th>0</th>\n",
       "      <td>1</td>\n",
       "      <td>NaN</td>\n",
       "      <td>xxx</td>\n",
       "      <td>NaN</td>\n",
       "    </tr>\n",
       "    <tr>\n",
       "      <th>1</th>\n",
       "      <td>55</td>\n",
       "      <td>NaN</td>\n",
       "      <td>PARCOM_Aquateam</td>\n",
       "      <td>NaN</td>\n",
       "    </tr>\n",
       "    <tr>\n",
       "      <th>2</th>\n",
       "      <td>56</td>\n",
       "      <td>NaN</td>\n",
       "      <td>PARCOM_NIVA</td>\n",
       "      <td>NaN</td>\n",
       "    </tr>\n",
       "    <tr>\n",
       "      <th>3</th>\n",
       "      <td>58</td>\n",
       "      <td>NaN</td>\n",
       "      <td>MAR_BOK</td>\n",
       "      <td>Fagdata</td>\n",
       "    </tr>\n",
       "    <tr>\n",
       "      <th>4</th>\n",
       "      <td>59</td>\n",
       "      <td>NaN</td>\n",
       "      <td>MAR_IMA</td>\n",
       "      <td>Fagdata</td>\n",
       "    </tr>\n",
       "  </tbody>\n",
       "</table>\n",
       "</div>"
      ],
      "text/plain": [
       "   ProjectId ProjectCode      ProjectName Description\n",
       "0          1         NaN              xxx         NaN\n",
       "1         55         NaN  PARCOM_Aquateam         NaN\n",
       "2         56         NaN      PARCOM_NIVA         NaN\n",
       "3         58         NaN          MAR_BOK     Fagdata\n",
       "4         59         NaN          MAR_IMA     Fagdata"
      ]
     },
     "execution_count": 3,
     "metadata": {},
     "output_type": "execute_result"
    }
   ],
   "source": [
    "proj_df = am.get_projects(token=token)\n",
    "print(f\"{len(proj_df)} projects in the database.\")\n",
    "proj_df.head()"
   ]
  },
  {
   "cell_type": "code",
   "execution_count": 4,
   "metadata": {},
   "outputs": [
    {
     "data": {
      "text/html": [
       "<div>\n",
       "<style scoped>\n",
       "    .dataframe tbody tr th:only-of-type {\n",
       "        vertical-align: middle;\n",
       "    }\n",
       "\n",
       "    .dataframe tbody tr th {\n",
       "        vertical-align: top;\n",
       "    }\n",
       "\n",
       "    .dataframe thead th {\n",
       "        text-align: right;\n",
       "    }\n",
       "</style>\n",
       "<table border=\"1\" class=\"dataframe\">\n",
       "  <thead>\n",
       "    <tr style=\"text-align: right;\">\n",
       "      <th></th>\n",
       "      <th>ProjectId</th>\n",
       "      <th>ProjectCode</th>\n",
       "      <th>ProjectName</th>\n",
       "      <th>Description</th>\n",
       "    </tr>\n",
       "  </thead>\n",
       "  <tbody>\n",
       "    <tr>\n",
       "      <th>1201</th>\n",
       "      <td>12433</td>\n",
       "      <td>190091</td>\n",
       "      <td>Nasjonal Innsjøundersøkelse 2019</td>\n",
       "      <td>1000-sjøer undersøkelse gjennomført i 2019</td>\n",
       "    </tr>\n",
       "  </tbody>\n",
       "</table>\n",
       "</div>"
      ],
      "text/plain": [
       "      ProjectId ProjectCode                       ProjectName  \\\n",
       "1201      12433      190091  Nasjonal Innsjøundersøkelse 2019   \n",
       "\n",
       "                                     Description  \n",
       "1201  1000-sjøer undersøkelse gjennomført i 2019  "
      ]
     },
     "execution_count": 4,
     "metadata": {},
     "output_type": "execute_result"
    }
   ],
   "source": [
    "# Find the project code for the 2019 '1000 Lakes' survey\n",
    "proj_df.query(\"ProjectName.str.contains('Nasjonal')\", engine=\"python\")"
   ]
  },
  {
   "cell_type": "markdown",
   "metadata": {},
   "source": [
    "## 3. Submit query  \n",
    "\n",
    "Use `get_project_chemistry` to extract all the data for your project and time period of of interest."
   ]
  },
  {
   "cell_type": "code",
   "execution_count": 5,
   "metadata": {},
   "outputs": [
    {
     "name": "stdout",
     "output_type": "stream",
     "text": [
      "CPU times: user 4.31 s, sys: 139 ms, total: 4.44 s\n",
      "Wall time: 28.4 s\n"
     ]
    },
    {
     "data": {
      "text/html": [
       "<div>\n",
       "<style scoped>\n",
       "    .dataframe tbody tr th:only-of-type {\n",
       "        vertical-align: middle;\n",
       "    }\n",
       "\n",
       "    .dataframe tbody tr th {\n",
       "        vertical-align: top;\n",
       "    }\n",
       "\n",
       "    .dataframe thead th {\n",
       "        text-align: right;\n",
       "    }\n",
       "</style>\n",
       "<table border=\"1\" class=\"dataframe\">\n",
       "  <thead>\n",
       "    <tr style=\"text-align: right;\">\n",
       "      <th></th>\n",
       "      <th>ProjectId</th>\n",
       "      <th>ProjectName</th>\n",
       "      <th>StationId</th>\n",
       "      <th>StationCode</th>\n",
       "      <th>StationName</th>\n",
       "      <th>SampleDate</th>\n",
       "      <th>Depth2</th>\n",
       "      <th>Name</th>\n",
       "      <th>Flag</th>\n",
       "      <th>Value</th>\n",
       "      <th>Unit</th>\n",
       "      <th>Approved</th>\n",
       "      <th>QuantificationLimit</th>\n",
       "      <th>DetectionLimit</th>\n",
       "      <th>Laboratory</th>\n",
       "      <th>MethodCode</th>\n",
       "      <th>MethodRef</th>\n",
       "      <th>Remark</th>\n",
       "    </tr>\n",
       "  </thead>\n",
       "  <tbody>\n",
       "    <tr>\n",
       "      <th>0</th>\n",
       "      <td>12433</td>\n",
       "      <td>Nasjonal Innsjøundersøkelse 2019</td>\n",
       "      <td>71725</td>\n",
       "      <td>1432-2-205</td>\n",
       "      <td>Femtevatnet</td>\n",
       "      <td>2019-10-02T00:00:00Z</td>\n",
       "      <td>NaN</td>\n",
       "      <td>Aluminium, ikke labil</td>\n",
       "      <td>&lt;</td>\n",
       "      <td>5.0</td>\n",
       "      <td>UG_P_L</td>\n",
       "      <td>True</td>\n",
       "      <td>5.0</td>\n",
       "      <td>1.5</td>\n",
       "      <td>NIVA_LABWARE</td>\n",
       "      <td>NaN</td>\n",
       "      <td>E3-2 - NS-EN ISO/IEC 17025:2005 NA TEST 009</td>\n",
       "      <td>NaN</td>\n",
       "    </tr>\n",
       "    <tr>\n",
       "      <th>1</th>\n",
       "      <td>12433</td>\n",
       "      <td>Nasjonal Innsjøundersøkelse 2019</td>\n",
       "      <td>71719</td>\n",
       "      <td>623-603</td>\n",
       "      <td>Breidlivatnet</td>\n",
       "      <td>2019-10-28T00:00:00Z</td>\n",
       "      <td>NaN</td>\n",
       "      <td>Aluminium, ikke labil</td>\n",
       "      <td>NaN</td>\n",
       "      <td>97.0</td>\n",
       "      <td>UG_P_L</td>\n",
       "      <td>True</td>\n",
       "      <td>5.0</td>\n",
       "      <td>1.5</td>\n",
       "      <td>NIVA_LABWARE</td>\n",
       "      <td>NaN</td>\n",
       "      <td>E3-2 - NS-EN ISO/IEC 17025:2005 NA TEST 009</td>\n",
       "      <td>NaN</td>\n",
       "    </tr>\n",
       "    <tr>\n",
       "      <th>2</th>\n",
       "      <td>12433</td>\n",
       "      <td>Nasjonal Innsjøundersøkelse 2019</td>\n",
       "      <td>45862</td>\n",
       "      <td>1037-19</td>\n",
       "      <td>Fjotlandsvatnet</td>\n",
       "      <td>2019-10-30T00:00:00Z</td>\n",
       "      <td>NaN</td>\n",
       "      <td>Aluminium, ikke labil</td>\n",
       "      <td>NaN</td>\n",
       "      <td>98.0</td>\n",
       "      <td>UG_P_L</td>\n",
       "      <td>True</td>\n",
       "      <td>5.0</td>\n",
       "      <td>1.5</td>\n",
       "      <td>NIVA_LABWARE</td>\n",
       "      <td>NaN</td>\n",
       "      <td>E3-2 - NS-EN ISO/IEC 17025:2005 NA TEST 009</td>\n",
       "      <td>NaN</td>\n",
       "    </tr>\n",
       "    <tr>\n",
       "      <th>3</th>\n",
       "      <td>12433</td>\n",
       "      <td>Nasjonal Innsjøundersøkelse 2019</td>\n",
       "      <td>37922</td>\n",
       "      <td>1622-1-5</td>\n",
       "      <td>Nedre Hanstjørna</td>\n",
       "      <td>2019-10-09T00:00:00Z</td>\n",
       "      <td>NaN</td>\n",
       "      <td>Aluminium, ikke labil</td>\n",
       "      <td>NaN</td>\n",
       "      <td>84.0</td>\n",
       "      <td>UG_P_L</td>\n",
       "      <td>True</td>\n",
       "      <td>5.0</td>\n",
       "      <td>1.5</td>\n",
       "      <td>NIVA_LABWARE</td>\n",
       "      <td>NaN</td>\n",
       "      <td>E3-2 - NS-EN ISO/IEC 17025:2005 NA TEST 009</td>\n",
       "      <td>NaN</td>\n",
       "    </tr>\n",
       "    <tr>\n",
       "      <th>4</th>\n",
       "      <td>12433</td>\n",
       "      <td>Nasjonal Innsjøundersøkelse 2019</td>\n",
       "      <td>27063</td>\n",
       "      <td>1811-1-22</td>\n",
       "      <td>HOH 674</td>\n",
       "      <td>2019-09-26T00:00:00Z</td>\n",
       "      <td>NaN</td>\n",
       "      <td>Aluminium, ikke labil</td>\n",
       "      <td>NaN</td>\n",
       "      <td>7.0</td>\n",
       "      <td>UG_P_L</td>\n",
       "      <td>True</td>\n",
       "      <td>5.0</td>\n",
       "      <td>1.5</td>\n",
       "      <td>NIVA_LABWARE</td>\n",
       "      <td>NaN</td>\n",
       "      <td>E3-2 - NS-EN ISO/IEC 17025:2005 NA TEST 009</td>\n",
       "      <td>NaN</td>\n",
       "    </tr>\n",
       "  </tbody>\n",
       "</table>\n",
       "</div>"
      ],
      "text/plain": [
       "   ProjectId                       ProjectName  StationId StationCode  \\\n",
       "0      12433  Nasjonal Innsjøundersøkelse 2019      71725  1432-2-205   \n",
       "1      12433  Nasjonal Innsjøundersøkelse 2019      71719     623-603   \n",
       "2      12433  Nasjonal Innsjøundersøkelse 2019      45862     1037-19   \n",
       "3      12433  Nasjonal Innsjøundersøkelse 2019      37922    1622-1-5   \n",
       "4      12433  Nasjonal Innsjøundersøkelse 2019      27063   1811-1-22   \n",
       "\n",
       "        StationName            SampleDate  Depth2                   Name Flag  \\\n",
       "0       Femtevatnet  2019-10-02T00:00:00Z     NaN  Aluminium, ikke labil    <   \n",
       "1     Breidlivatnet  2019-10-28T00:00:00Z     NaN  Aluminium, ikke labil  NaN   \n",
       "2   Fjotlandsvatnet  2019-10-30T00:00:00Z     NaN  Aluminium, ikke labil  NaN   \n",
       "3  Nedre Hanstjørna  2019-10-09T00:00:00Z     NaN  Aluminium, ikke labil  NaN   \n",
       "4           HOH 674  2019-09-26T00:00:00Z     NaN  Aluminium, ikke labil  NaN   \n",
       "\n",
       "   Value    Unit Approved  QuantificationLimit  DetectionLimit    Laboratory  \\\n",
       "0    5.0  UG_P_L     True                  5.0             1.5  NIVA_LABWARE   \n",
       "1   97.0  UG_P_L     True                  5.0             1.5  NIVA_LABWARE   \n",
       "2   98.0  UG_P_L     True                  5.0             1.5  NIVA_LABWARE   \n",
       "3   84.0  UG_P_L     True                  5.0             1.5  NIVA_LABWARE   \n",
       "4    7.0  UG_P_L     True                  5.0             1.5  NIVA_LABWARE   \n",
       "\n",
       "  MethodCode                                    MethodRef Remark  \n",
       "0        NaN  E3-2 - NS-EN ISO/IEC 17025:2005 NA TEST 009    NaN  \n",
       "1        NaN  E3-2 - NS-EN ISO/IEC 17025:2005 NA TEST 009    NaN  \n",
       "2        NaN  E3-2 - NS-EN ISO/IEC 17025:2005 NA TEST 009    NaN  \n",
       "3        NaN  E3-2 - NS-EN ISO/IEC 17025:2005 NA TEST 009    NaN  \n",
       "4        NaN  E3-2 - NS-EN ISO/IEC 17025:2005 NA TEST 009    NaN  "
      ]
     },
     "execution_count": 5,
     "metadata": {},
     "output_type": "execute_result"
    }
   ],
   "source": [
    "%%time\n",
    "\n",
    "proj_id = 12433\n",
    "st_dt = \"01.01.2019\"\n",
    "end_dt = \"31.12.2019\"\n",
    "\n",
    "df = am.get_project_chemistry(proj_id, st_dt, end_dt, token=token)\n",
    "df.head()"
   ]
  }
 ],
 "metadata": {
  "kernelspec": {
   "display_name": "Python 3",
   "language": "python",
   "name": "python3"
  },
  "language_info": {
   "codemirror_mode": {
    "name": "ipython",
    "version": 3
   },
   "file_extension": ".py",
   "mimetype": "text/x-python",
   "name": "python",
   "nbconvert_exporter": "python",
   "pygments_lexer": "ipython3",
   "version": "3.8.6"
  }
 },
 "nbformat": 4,
 "nbformat_minor": 4
}
